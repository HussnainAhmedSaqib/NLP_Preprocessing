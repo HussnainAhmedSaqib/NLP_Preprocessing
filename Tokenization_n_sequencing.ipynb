{
  "nbformat": 4,
  "nbformat_minor": 0,
  "metadata": {
    "colab": {
      "name": "Tokenization_n_sequencing.ipynb",
      "provenance": [],
      "authorship_tag": "ABX9TyMaywauYjEwjTDiVlyvoOFB",
      "include_colab_link": true
    },
    "kernelspec": {
      "name": "python3",
      "display_name": "Python 3"
    },
    "language_info": {
      "name": "python"
    }
  },
  "cells": [
    {
      "cell_type": "markdown",
      "metadata": {
        "id": "view-in-github",
        "colab_type": "text"
      },
      "source": [
        "<a href=\"https://colab.research.google.com/github/HussnainAhmedSaqib/NLP_Preprocessing/blob/main/Tokenization_n_sequencing.ipynb\" target=\"_parent\"><img src=\"https://colab.research.google.com/assets/colab-badge.svg\" alt=\"Open In Colab\"/></a>"
      ]
    },
    {
      "cell_type": "code",
      "metadata": {
        "id": "ZQt_Jy9cnyTR"
      },
      "source": [
        "import tensorflow as tf \n",
        "from tensorflow import keras\n",
        "from tensorflow.keras.preprocessing.text import Tokenizer \n",
        "from tensorflow.keras.preprocessing.sequence import pad_sequences "
      ],
      "execution_count": 52,
      "outputs": []
    },
    {
      "cell_type": "code",
      "metadata": {
        "id": "HmzIfjaHo10x"
      },
      "source": [
        "sentences=['I LOVE MY DOG', 'I LOVE MY CAT','You love my dog!','My dog is loved by all!']"
      ],
      "execution_count": 53,
      "outputs": []
    },
    {
      "cell_type": "code",
      "metadata": {
        "id": "UwXp3HSKo76_"
      },
      "source": [
        "tz=Tokenizer(num_words=100,oov_token=\"<OOV>\") # tokenizes 100(num_words) most frequent words, using OOV helps in maintaining sequence"
      ],
      "execution_count": 54,
      "outputs": []
    },
    {
      "cell_type": "code",
      "metadata": {
        "id": "IjGZFarbpOQw"
      },
      "source": [
        "tz.fit_on_texts(sentences)\n",
        "word_ind=tz.word_index"
      ],
      "execution_count": 55,
      "outputs": []
    },
    {
      "cell_type": "code",
      "metadata": {
        "colab": {
          "base_uri": "https://localhost:8080/"
        },
        "id": "6wHfflGxpXaw",
        "outputId": "520971c0-ba76-4f0b-ed54-7841038cb67a"
      },
      "source": [
        "print(word_ind)"
      ],
      "execution_count": 56,
      "outputs": [
        {
          "output_type": "stream",
          "text": [
            "{'<OOV>': 1, 'my': 2, 'love': 3, 'dog': 4, 'i': 5, 'cat': 6, 'you': 7, 'is': 8, 'loved': 9, 'by': 10, 'all': 11}\n"
          ],
          "name": "stdout"
        }
      ]
    },
    {
      "cell_type": "code",
      "metadata": {
        "id": "rV8TCvaEpYtb"
      },
      "source": [
        "seq=tz.texts_to_sequences(sentences)"
      ],
      "execution_count": 57,
      "outputs": []
    },
    {
      "cell_type": "code",
      "metadata": {
        "colab": {
          "base_uri": "https://localhost:8080/"
        },
        "id": "RtobZ_N8r-Ee",
        "outputId": "dc2374ed-99d3-46df-b5e7-8f8a152686f1"
      },
      "source": [
        "print(seq)"
      ],
      "execution_count": 58,
      "outputs": [
        {
          "output_type": "stream",
          "text": [
            "[[5, 3, 2, 4], [5, 3, 2, 6], [7, 3, 2, 4], [2, 4, 8, 9, 10, 11]]\n"
          ],
          "name": "stdout"
        }
      ]
    },
    {
      "cell_type": "code",
      "metadata": {
        "id": "q9unYDTysAq7"
      },
      "source": [
        "test_data=['My dog really loves me','my dog loves my manatee']"
      ],
      "execution_count": 59,
      "outputs": []
    },
    {
      "cell_type": "code",
      "metadata": {
        "id": "0GpQdgoVz3_M"
      },
      "source": [
        "padded=pad_sequences(seq)\n",
        "#padded=pad_sequences(seq,padding='post') to put 0s at end instead of start\n",
        "#padded=pad_sequences(seq,padding='post',truncating='post'(cuts sentence from end if len exceeds 5),maxlen=5(max len of sentences 5 ))"
      ],
      "execution_count": 60,
      "outputs": []
    },
    {
      "cell_type": "code",
      "metadata": {
        "colab": {
          "base_uri": "https://localhost:8080/"
        },
        "id": "ePLqx9EC0B0_",
        "outputId": "47ca8ed0-ff82-4fdf-fc93-1a074fc01cb1"
      },
      "source": [
        "print(padded)"
      ],
      "execution_count": 61,
      "outputs": [
        {
          "output_type": "stream",
          "text": [
            "[[ 0  0  5  3  2  4]\n",
            " [ 0  0  5  3  2  6]\n",
            " [ 0  0  7  3  2  4]\n",
            " [ 2  4  8  9 10 11]]\n"
          ],
          "name": "stdout"
        }
      ]
    },
    {
      "cell_type": "code",
      "metadata": {
        "id": "zzJ9ctW5zoNO"
      },
      "source": [
        "test_seq=tz.texts_to_sequences(test_data)"
      ],
      "execution_count": 62,
      "outputs": []
    },
    {
      "cell_type": "code",
      "metadata": {
        "colab": {
          "base_uri": "https://localhost:8080/"
        },
        "id": "Nx87KnZYyE9P",
        "outputId": "2ce7124d-2aed-41de-d0ee-45430a18fcd0"
      },
      "source": [
        "print(test_seq)"
      ],
      "execution_count": 63,
      "outputs": [
        {
          "output_type": "stream",
          "text": [
            "[[2, 4, 1, 1, 1], [2, 4, 1, 2, 1]]\n"
          ],
          "name": "stdout"
        }
      ]
    },
    {
      "cell_type": "code",
      "metadata": {
        "id": "gRWBmDPE4qzm"
      },
      "source": [
        ""
      ],
      "execution_count": null,
      "outputs": []
    }
  ]
}